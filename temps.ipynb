{
 "cells": [
  {
   "cell_type": "code",
   "execution_count": 1,
   "metadata": {},
   "outputs": [],
   "source": [
    "import asyncio\n",
    "import websockets\n",
    "import pandas as pd\n",
    "import numpy as np\n",
    "import plotly.graph_objects as go\n",
    "from dash import Dash, dcc, html\n",
    "from dash.dependencies import Input, Output\n",
    "import threading\n",
    "import webbrowser\n",
    "from flask import Flask\n",
    "\n",
    "# generate sample timestamp\n",
    "\n",
    "\n",
    "# Generate sample data\n",
    "data = np.append(\n",
    "            np.append(\n",
    "                np.append(\n",
    "                    np.random.randint(50,61,(100,1)),\n",
    "                    np.random.randint(0,100,(100,1)), axis=1),\n",
    "                np.random.randint(-100,0,(100,1)), axis=1),\n",
    "            np.random.randint(1,3,(100,1)), axis=1)\n",
    "\n",
    "df = pd.DataFrame(data, columns=[\"timeStamp\", \"TxPower\",\"RSSI\",\"RTT\"])\n",
    "df[\"timeStamp\"] = df[\"timeStamp\"].cumsum(axis=0)"
   ]
  },
  {
   "cell_type": "code",
   "execution_count": 2,
   "metadata": {},
   "outputs": [
    {
     "data": {
      "text/html": [
       "<div>\n",
       "<style scoped>\n",
       "    .dataframe tbody tr th:only-of-type {\n",
       "        vertical-align: middle;\n",
       "    }\n",
       "\n",
       "    .dataframe tbody tr th {\n",
       "        vertical-align: top;\n",
       "    }\n",
       "\n",
       "    .dataframe thead th {\n",
       "        text-align: right;\n",
       "    }\n",
       "</style>\n",
       "<table border=\"1\" class=\"dataframe\">\n",
       "  <thead>\n",
       "    <tr style=\"text-align: right;\">\n",
       "      <th></th>\n",
       "      <th>timeStamp</th>\n",
       "      <th>TxPower</th>\n",
       "      <th>RSSI</th>\n",
       "      <th>RTT</th>\n",
       "    </tr>\n",
       "  </thead>\n",
       "  <tbody>\n",
       "    <tr>\n",
       "      <th>0</th>\n",
       "      <td>55</td>\n",
       "      <td>37</td>\n",
       "      <td>-70</td>\n",
       "      <td>1</td>\n",
       "    </tr>\n",
       "    <tr>\n",
       "      <th>1</th>\n",
       "      <td>107</td>\n",
       "      <td>86</td>\n",
       "      <td>-75</td>\n",
       "      <td>1</td>\n",
       "    </tr>\n",
       "    <tr>\n",
       "      <th>2</th>\n",
       "      <td>157</td>\n",
       "      <td>39</td>\n",
       "      <td>-22</td>\n",
       "      <td>1</td>\n",
       "    </tr>\n",
       "    <tr>\n",
       "      <th>3</th>\n",
       "      <td>214</td>\n",
       "      <td>54</td>\n",
       "      <td>-29</td>\n",
       "      <td>1</td>\n",
       "    </tr>\n",
       "    <tr>\n",
       "      <th>4</th>\n",
       "      <td>264</td>\n",
       "      <td>23</td>\n",
       "      <td>-21</td>\n",
       "      <td>1</td>\n",
       "    </tr>\n",
       "    <tr>\n",
       "      <th>...</th>\n",
       "      <td>...</td>\n",
       "      <td>...</td>\n",
       "      <td>...</td>\n",
       "      <td>...</td>\n",
       "    </tr>\n",
       "    <tr>\n",
       "      <th>95</th>\n",
       "      <td>5226</td>\n",
       "      <td>30</td>\n",
       "      <td>-58</td>\n",
       "      <td>2</td>\n",
       "    </tr>\n",
       "    <tr>\n",
       "      <th>96</th>\n",
       "      <td>5279</td>\n",
       "      <td>43</td>\n",
       "      <td>-90</td>\n",
       "      <td>1</td>\n",
       "    </tr>\n",
       "    <tr>\n",
       "      <th>97</th>\n",
       "      <td>5339</td>\n",
       "      <td>28</td>\n",
       "      <td>-8</td>\n",
       "      <td>1</td>\n",
       "    </tr>\n",
       "    <tr>\n",
       "      <th>98</th>\n",
       "      <td>5392</td>\n",
       "      <td>35</td>\n",
       "      <td>-21</td>\n",
       "      <td>1</td>\n",
       "    </tr>\n",
       "    <tr>\n",
       "      <th>99</th>\n",
       "      <td>5443</td>\n",
       "      <td>78</td>\n",
       "      <td>-68</td>\n",
       "      <td>1</td>\n",
       "    </tr>\n",
       "  </tbody>\n",
       "</table>\n",
       "<p>100 rows × 4 columns</p>\n",
       "</div>"
      ],
      "text/plain": [
       "    timeStamp  TxPower  RSSI  RTT\n",
       "0          55       37   -70    1\n",
       "1         107       86   -75    1\n",
       "2         157       39   -22    1\n",
       "3         214       54   -29    1\n",
       "4         264       23   -21    1\n",
       "..        ...      ...   ...  ...\n",
       "95       5226       30   -58    2\n",
       "96       5279       43   -90    1\n",
       "97       5339       28    -8    1\n",
       "98       5392       35   -21    1\n",
       "99       5443       78   -68    1\n",
       "\n",
       "[100 rows x 4 columns]"
      ]
     },
     "execution_count": 2,
     "metadata": {},
     "output_type": "execute_result"
    }
   ],
   "source": [
    "df"
   ]
  },
  {
   "cell_type": "code",
   "execution_count": 35,
   "metadata": {},
   "outputs": [
    {
     "data": {
      "application/vnd.plotly.v1+json": {
       "config": {
        "plotlyServerURL": "https://plot.ly"
       },
       "data": [
        {
         "line": {
          "color": "#636EFA"
         },
         "mode": "lines",
         "name": "TxPower",
         "type": "scatter",
         "x": [
          55,
          107,
          157,
          214,
          264,
          317,
          377,
          430,
          486,
          545,
          596,
          652,
          702,
          760,
          815,
          866,
          916,
          974,
          1024,
          1080,
          1138,
          1193,
          1251,
          1302,
          1352,
          1409,
          1464,
          1518,
          1572,
          1627,
          1686,
          1738,
          1798,
          1856,
          1907,
          1964,
          2019,
          2075,
          2135,
          2189,
          2248,
          2301,
          2355,
          2415,
          2465,
          2515,
          2568,
          2618,
          2675,
          2725,
          2784,
          2836,
          2888,
          2945,
          2997,
          3048,
          3098,
          3149,
          3206,
          3258,
          3314,
          3365,
          3422,
          3473,
          3527,
          3577,
          3633,
          3688,
          3739,
          3798,
          3856,
          3906,
          3965,
          4018,
          4076,
          4128,
          4178,
          4232,
          4282,
          4339,
          4391,
          4451,
          4510,
          4570,
          4628,
          4686,
          4742,
          4793,
          4846,
          4899,
          4951,
          5009,
          5062,
          5114,
          5168,
          5226,
          5279,
          5339,
          5392,
          5443
         ],
         "y": [
          37,
          86,
          39,
          54,
          23,
          83,
          94,
          43,
          35,
          87,
          64,
          40,
          59,
          42,
          65,
          49,
          3,
          25,
          69,
          31,
          16,
          46,
          50,
          3,
          70,
          52,
          9,
          5,
          21,
          82,
          85,
          22,
          43,
          42,
          65,
          41,
          24,
          50,
          33,
          85,
          69,
          81,
          24,
          90,
          94,
          96,
          9,
          6,
          15,
          76,
          37,
          43,
          14,
          13,
          41,
          86,
          61,
          25,
          2,
          97,
          7,
          75,
          59,
          37,
          97,
          48,
          57,
          4,
          79,
          66,
          75,
          55,
          85,
          42,
          32,
          41,
          18,
          91,
          10,
          64,
          40,
          75,
          63,
          26,
          82,
          23,
          37,
          32,
          43,
          2,
          29,
          94,
          12,
          82,
          23,
          30,
          43,
          28,
          35,
          78
         ]
        },
        {
         "line": {
          "color": "#EF553B"
         },
         "mode": "lines",
         "name": "RSSI",
         "type": "scatter",
         "x": [
          55,
          107,
          157,
          214,
          264,
          317,
          377,
          430,
          486,
          545,
          596,
          652,
          702,
          760,
          815,
          866,
          916,
          974,
          1024,
          1080,
          1138,
          1193,
          1251,
          1302,
          1352,
          1409,
          1464,
          1518,
          1572,
          1627,
          1686,
          1738,
          1798,
          1856,
          1907,
          1964,
          2019,
          2075,
          2135,
          2189,
          2248,
          2301,
          2355,
          2415,
          2465,
          2515,
          2568,
          2618,
          2675,
          2725,
          2784,
          2836,
          2888,
          2945,
          2997,
          3048,
          3098,
          3149,
          3206,
          3258,
          3314,
          3365,
          3422,
          3473,
          3527,
          3577,
          3633,
          3688,
          3739,
          3798,
          3856,
          3906,
          3965,
          4018,
          4076,
          4128,
          4178,
          4232,
          4282,
          4339,
          4391,
          4451,
          4510,
          4570,
          4628,
          4686,
          4742,
          4793,
          4846,
          4899,
          4951,
          5009,
          5062,
          5114,
          5168,
          5226,
          5279,
          5339,
          5392,
          5443
         ],
         "y": [
          -70,
          -75,
          -22,
          -29,
          -21,
          -94,
          -42,
          -96,
          -76,
          -15,
          -9,
          -91,
          -75,
          -65,
          -32,
          -99,
          -83,
          -5,
          -7,
          -10,
          -32,
          -9,
          -83,
          -50,
          -77,
          -4,
          -63,
          -67,
          -69,
          -47,
          -45,
          -21,
          -91,
          -74,
          -80,
          -65,
          -96,
          -81,
          -38,
          -45,
          -80,
          -41,
          -43,
          -24,
          -99,
          -43,
          -24,
          -9,
          -16,
          -1,
          -46,
          -98,
          -54,
          -17,
          -57,
          -58,
          -79,
          -47,
          -96,
          -26,
          -95,
          -36,
          -50,
          -41,
          -11,
          -65,
          -82,
          -73,
          -17,
          -60,
          -82,
          -63,
          -45,
          -59,
          -20,
          -61,
          -46,
          -34,
          -77,
          -8,
          -75,
          -20,
          -63,
          -97,
          -59,
          -59,
          -71,
          -28,
          -85,
          -14,
          -9,
          -15,
          -60,
          -4,
          -46,
          -58,
          -90,
          -8,
          -21,
          -68
         ],
         "yaxis": "y2"
        },
        {
         "line": {
          "color": "#00CC96"
         },
         "mode": "lines",
         "name": "RTT",
         "type": "scatter",
         "x": [
          55,
          107,
          157,
          214,
          264,
          317,
          377,
          430,
          486,
          545,
          596,
          652,
          702,
          760,
          815,
          866,
          916,
          974,
          1024,
          1080,
          1138,
          1193,
          1251,
          1302,
          1352,
          1409,
          1464,
          1518,
          1572,
          1627,
          1686,
          1738,
          1798,
          1856,
          1907,
          1964,
          2019,
          2075,
          2135,
          2189,
          2248,
          2301,
          2355,
          2415,
          2465,
          2515,
          2568,
          2618,
          2675,
          2725,
          2784,
          2836,
          2888,
          2945,
          2997,
          3048,
          3098,
          3149,
          3206,
          3258,
          3314,
          3365,
          3422,
          3473,
          3527,
          3577,
          3633,
          3688,
          3739,
          3798,
          3856,
          3906,
          3965,
          4018,
          4076,
          4128,
          4178,
          4232,
          4282,
          4339,
          4391,
          4451,
          4510,
          4570,
          4628,
          4686,
          4742,
          4793,
          4846,
          4899,
          4951,
          5009,
          5062,
          5114,
          5168,
          5226,
          5279,
          5339,
          5392,
          5443
         ],
         "y": [
          1,
          1,
          1,
          1,
          1,
          1,
          2,
          2,
          2,
          1,
          1,
          2,
          1,
          1,
          1,
          1,
          1,
          1,
          1,
          2,
          2,
          1,
          2,
          2,
          1,
          2,
          2,
          1,
          2,
          1,
          1,
          2,
          1,
          2,
          1,
          1,
          2,
          1,
          1,
          1,
          2,
          1,
          2,
          2,
          2,
          1,
          1,
          2,
          2,
          1,
          1,
          2,
          1,
          1,
          1,
          1,
          1,
          1,
          1,
          1,
          1,
          2,
          1,
          2,
          1,
          2,
          2,
          2,
          2,
          1,
          1,
          2,
          2,
          1,
          2,
          2,
          1,
          1,
          2,
          2,
          1,
          2,
          1,
          1,
          2,
          1,
          1,
          2,
          1,
          2,
          2,
          1,
          1,
          1,
          2,
          2,
          1,
          1,
          1,
          1
         ],
         "yaxis": "y3"
        }
       ],
       "layout": {
        "font": {
         "color": "rgb(150,150,150)"
        },
        "height": 800,
        "legend": {
         "orientation": "h",
         "x": 0,
         "y": 1.07
        },
        "paper_bgcolor": "rgb(10,10,10)",
        "plot_bgcolor": "rgb(35,35,35)",
        "template": {
         "data": {
          "bar": [
           {
            "error_x": {
             "color": "#2a3f5f"
            },
            "error_y": {
             "color": "#2a3f5f"
            },
            "marker": {
             "line": {
              "color": "#E5ECF6",
              "width": 0.5
             },
             "pattern": {
              "fillmode": "overlay",
              "size": 10,
              "solidity": 0.2
             }
            },
            "type": "bar"
           }
          ],
          "barpolar": [
           {
            "marker": {
             "line": {
              "color": "#E5ECF6",
              "width": 0.5
             },
             "pattern": {
              "fillmode": "overlay",
              "size": 10,
              "solidity": 0.2
             }
            },
            "type": "barpolar"
           }
          ],
          "carpet": [
           {
            "aaxis": {
             "endlinecolor": "#2a3f5f",
             "gridcolor": "white",
             "linecolor": "white",
             "minorgridcolor": "white",
             "startlinecolor": "#2a3f5f"
            },
            "baxis": {
             "endlinecolor": "#2a3f5f",
             "gridcolor": "white",
             "linecolor": "white",
             "minorgridcolor": "white",
             "startlinecolor": "#2a3f5f"
            },
            "type": "carpet"
           }
          ],
          "choropleth": [
           {
            "colorbar": {
             "outlinewidth": 0,
             "ticks": ""
            },
            "type": "choropleth"
           }
          ],
          "contour": [
           {
            "colorbar": {
             "outlinewidth": 0,
             "ticks": ""
            },
            "colorscale": [
             [
              0,
              "#0d0887"
             ],
             [
              0.1111111111111111,
              "#46039f"
             ],
             [
              0.2222222222222222,
              "#7201a8"
             ],
             [
              0.3333333333333333,
              "#9c179e"
             ],
             [
              0.4444444444444444,
              "#bd3786"
             ],
             [
              0.5555555555555556,
              "#d8576b"
             ],
             [
              0.6666666666666666,
              "#ed7953"
             ],
             [
              0.7777777777777778,
              "#fb9f3a"
             ],
             [
              0.8888888888888888,
              "#fdca26"
             ],
             [
              1,
              "#f0f921"
             ]
            ],
            "type": "contour"
           }
          ],
          "contourcarpet": [
           {
            "colorbar": {
             "outlinewidth": 0,
             "ticks": ""
            },
            "type": "contourcarpet"
           }
          ],
          "heatmap": [
           {
            "colorbar": {
             "outlinewidth": 0,
             "ticks": ""
            },
            "colorscale": [
             [
              0,
              "#0d0887"
             ],
             [
              0.1111111111111111,
              "#46039f"
             ],
             [
              0.2222222222222222,
              "#7201a8"
             ],
             [
              0.3333333333333333,
              "#9c179e"
             ],
             [
              0.4444444444444444,
              "#bd3786"
             ],
             [
              0.5555555555555556,
              "#d8576b"
             ],
             [
              0.6666666666666666,
              "#ed7953"
             ],
             [
              0.7777777777777778,
              "#fb9f3a"
             ],
             [
              0.8888888888888888,
              "#fdca26"
             ],
             [
              1,
              "#f0f921"
             ]
            ],
            "type": "heatmap"
           }
          ],
          "heatmapgl": [
           {
            "colorbar": {
             "outlinewidth": 0,
             "ticks": ""
            },
            "colorscale": [
             [
              0,
              "#0d0887"
             ],
             [
              0.1111111111111111,
              "#46039f"
             ],
             [
              0.2222222222222222,
              "#7201a8"
             ],
             [
              0.3333333333333333,
              "#9c179e"
             ],
             [
              0.4444444444444444,
              "#bd3786"
             ],
             [
              0.5555555555555556,
              "#d8576b"
             ],
             [
              0.6666666666666666,
              "#ed7953"
             ],
             [
              0.7777777777777778,
              "#fb9f3a"
             ],
             [
              0.8888888888888888,
              "#fdca26"
             ],
             [
              1,
              "#f0f921"
             ]
            ],
            "type": "heatmapgl"
           }
          ],
          "histogram": [
           {
            "marker": {
             "pattern": {
              "fillmode": "overlay",
              "size": 10,
              "solidity": 0.2
             }
            },
            "type": "histogram"
           }
          ],
          "histogram2d": [
           {
            "colorbar": {
             "outlinewidth": 0,
             "ticks": ""
            },
            "colorscale": [
             [
              0,
              "#0d0887"
             ],
             [
              0.1111111111111111,
              "#46039f"
             ],
             [
              0.2222222222222222,
              "#7201a8"
             ],
             [
              0.3333333333333333,
              "#9c179e"
             ],
             [
              0.4444444444444444,
              "#bd3786"
             ],
             [
              0.5555555555555556,
              "#d8576b"
             ],
             [
              0.6666666666666666,
              "#ed7953"
             ],
             [
              0.7777777777777778,
              "#fb9f3a"
             ],
             [
              0.8888888888888888,
              "#fdca26"
             ],
             [
              1,
              "#f0f921"
             ]
            ],
            "type": "histogram2d"
           }
          ],
          "histogram2dcontour": [
           {
            "colorbar": {
             "outlinewidth": 0,
             "ticks": ""
            },
            "colorscale": [
             [
              0,
              "#0d0887"
             ],
             [
              0.1111111111111111,
              "#46039f"
             ],
             [
              0.2222222222222222,
              "#7201a8"
             ],
             [
              0.3333333333333333,
              "#9c179e"
             ],
             [
              0.4444444444444444,
              "#bd3786"
             ],
             [
              0.5555555555555556,
              "#d8576b"
             ],
             [
              0.6666666666666666,
              "#ed7953"
             ],
             [
              0.7777777777777778,
              "#fb9f3a"
             ],
             [
              0.8888888888888888,
              "#fdca26"
             ],
             [
              1,
              "#f0f921"
             ]
            ],
            "type": "histogram2dcontour"
           }
          ],
          "mesh3d": [
           {
            "colorbar": {
             "outlinewidth": 0,
             "ticks": ""
            },
            "type": "mesh3d"
           }
          ],
          "parcoords": [
           {
            "line": {
             "colorbar": {
              "outlinewidth": 0,
              "ticks": ""
             }
            },
            "type": "parcoords"
           }
          ],
          "pie": [
           {
            "automargin": true,
            "type": "pie"
           }
          ],
          "scatter": [
           {
            "fillpattern": {
             "fillmode": "overlay",
             "size": 10,
             "solidity": 0.2
            },
            "type": "scatter"
           }
          ],
          "scatter3d": [
           {
            "line": {
             "colorbar": {
              "outlinewidth": 0,
              "ticks": ""
             }
            },
            "marker": {
             "colorbar": {
              "outlinewidth": 0,
              "ticks": ""
             }
            },
            "type": "scatter3d"
           }
          ],
          "scattercarpet": [
           {
            "marker": {
             "colorbar": {
              "outlinewidth": 0,
              "ticks": ""
             }
            },
            "type": "scattercarpet"
           }
          ],
          "scattergeo": [
           {
            "marker": {
             "colorbar": {
              "outlinewidth": 0,
              "ticks": ""
             }
            },
            "type": "scattergeo"
           }
          ],
          "scattergl": [
           {
            "marker": {
             "colorbar": {
              "outlinewidth": 0,
              "ticks": ""
             }
            },
            "type": "scattergl"
           }
          ],
          "scattermapbox": [
           {
            "marker": {
             "colorbar": {
              "outlinewidth": 0,
              "ticks": ""
             }
            },
            "type": "scattermapbox"
           }
          ],
          "scatterpolar": [
           {
            "marker": {
             "colorbar": {
              "outlinewidth": 0,
              "ticks": ""
             }
            },
            "type": "scatterpolar"
           }
          ],
          "scatterpolargl": [
           {
            "marker": {
             "colorbar": {
              "outlinewidth": 0,
              "ticks": ""
             }
            },
            "type": "scatterpolargl"
           }
          ],
          "scatterternary": [
           {
            "marker": {
             "colorbar": {
              "outlinewidth": 0,
              "ticks": ""
             }
            },
            "type": "scatterternary"
           }
          ],
          "surface": [
           {
            "colorbar": {
             "outlinewidth": 0,
             "ticks": ""
            },
            "colorscale": [
             [
              0,
              "#0d0887"
             ],
             [
              0.1111111111111111,
              "#46039f"
             ],
             [
              0.2222222222222222,
              "#7201a8"
             ],
             [
              0.3333333333333333,
              "#9c179e"
             ],
             [
              0.4444444444444444,
              "#bd3786"
             ],
             [
              0.5555555555555556,
              "#d8576b"
             ],
             [
              0.6666666666666666,
              "#ed7953"
             ],
             [
              0.7777777777777778,
              "#fb9f3a"
             ],
             [
              0.8888888888888888,
              "#fdca26"
             ],
             [
              1,
              "#f0f921"
             ]
            ],
            "type": "surface"
           }
          ],
          "table": [
           {
            "cells": {
             "fill": {
              "color": "#EBF0F8"
             },
             "line": {
              "color": "white"
             }
            },
            "header": {
             "fill": {
              "color": "#C8D4E3"
             },
             "line": {
              "color": "white"
             }
            },
            "type": "table"
           }
          ]
         },
         "layout": {
          "annotationdefaults": {
           "arrowcolor": "#2a3f5f",
           "arrowhead": 0,
           "arrowwidth": 1
          },
          "autotypenumbers": "strict",
          "coloraxis": {
           "colorbar": {
            "outlinewidth": 0,
            "ticks": ""
           }
          },
          "colorscale": {
           "diverging": [
            [
             0,
             "#8e0152"
            ],
            [
             0.1,
             "#c51b7d"
            ],
            [
             0.2,
             "#de77ae"
            ],
            [
             0.3,
             "#f1b6da"
            ],
            [
             0.4,
             "#fde0ef"
            ],
            [
             0.5,
             "#f7f7f7"
            ],
            [
             0.6,
             "#e6f5d0"
            ],
            [
             0.7,
             "#b8e186"
            ],
            [
             0.8,
             "#7fbc41"
            ],
            [
             0.9,
             "#4d9221"
            ],
            [
             1,
             "#276419"
            ]
           ],
           "sequential": [
            [
             0,
             "#0d0887"
            ],
            [
             0.1111111111111111,
             "#46039f"
            ],
            [
             0.2222222222222222,
             "#7201a8"
            ],
            [
             0.3333333333333333,
             "#9c179e"
            ],
            [
             0.4444444444444444,
             "#bd3786"
            ],
            [
             0.5555555555555556,
             "#d8576b"
            ],
            [
             0.6666666666666666,
             "#ed7953"
            ],
            [
             0.7777777777777778,
             "#fb9f3a"
            ],
            [
             0.8888888888888888,
             "#fdca26"
            ],
            [
             1,
             "#f0f921"
            ]
           ],
           "sequentialminus": [
            [
             0,
             "#0d0887"
            ],
            [
             0.1111111111111111,
             "#46039f"
            ],
            [
             0.2222222222222222,
             "#7201a8"
            ],
            [
             0.3333333333333333,
             "#9c179e"
            ],
            [
             0.4444444444444444,
             "#bd3786"
            ],
            [
             0.5555555555555556,
             "#d8576b"
            ],
            [
             0.6666666666666666,
             "#ed7953"
            ],
            [
             0.7777777777777778,
             "#fb9f3a"
            ],
            [
             0.8888888888888888,
             "#fdca26"
            ],
            [
             1,
             "#f0f921"
            ]
           ]
          },
          "colorway": [
           "#636efa",
           "#EF553B",
           "#00cc96",
           "#ab63fa",
           "#FFA15A",
           "#19d3f3",
           "#FF6692",
           "#B6E880",
           "#FF97FF",
           "#FECB52"
          ],
          "font": {
           "color": "#2a3f5f"
          },
          "geo": {
           "bgcolor": "white",
           "lakecolor": "white",
           "landcolor": "#E5ECF6",
           "showlakes": true,
           "showland": true,
           "subunitcolor": "white"
          },
          "hoverlabel": {
           "align": "left"
          },
          "hovermode": "closest",
          "mapbox": {
           "style": "light"
          },
          "paper_bgcolor": "white",
          "plot_bgcolor": "#E5ECF6",
          "polar": {
           "angularaxis": {
            "gridcolor": "white",
            "linecolor": "white",
            "ticks": ""
           },
           "bgcolor": "#E5ECF6",
           "radialaxis": {
            "gridcolor": "white",
            "linecolor": "white",
            "ticks": ""
           }
          },
          "scene": {
           "xaxis": {
            "backgroundcolor": "#E5ECF6",
            "gridcolor": "white",
            "gridwidth": 2,
            "linecolor": "white",
            "showbackground": true,
            "ticks": "",
            "zerolinecolor": "white"
           },
           "yaxis": {
            "backgroundcolor": "#E5ECF6",
            "gridcolor": "white",
            "gridwidth": 2,
            "linecolor": "white",
            "showbackground": true,
            "ticks": "",
            "zerolinecolor": "white"
           },
           "zaxis": {
            "backgroundcolor": "#E5ECF6",
            "gridcolor": "white",
            "gridwidth": 2,
            "linecolor": "white",
            "showbackground": true,
            "ticks": "",
            "zerolinecolor": "white"
           }
          },
          "shapedefaults": {
           "line": {
            "color": "#2a3f5f"
           }
          },
          "ternary": {
           "aaxis": {
            "gridcolor": "white",
            "linecolor": "white",
            "ticks": ""
           },
           "baxis": {
            "gridcolor": "white",
            "linecolor": "white",
            "ticks": ""
           },
           "bgcolor": "#E5ECF6",
           "caxis": {
            "gridcolor": "white",
            "linecolor": "white",
            "ticks": ""
           }
          },
          "title": {
           "x": 0.05
          },
          "xaxis": {
           "automargin": true,
           "gridcolor": "white",
           "linecolor": "white",
           "ticks": "",
           "title": {
            "standoff": 15
           },
           "zerolinecolor": "white",
           "zerolinewidth": 2
          },
          "yaxis": {
           "automargin": true,
           "gridcolor": "white",
           "linecolor": "white",
           "ticks": "",
           "title": {
            "standoff": 15
           },
           "zerolinecolor": "white",
           "zerolinewidth": 2
          }
         }
        },
        "title": {
         "font": {
          "size": 24
         },
         "text": "Radio Transmission metrics"
        },
        "width": 1750,
        "xaxis": {
         "domain": [
          0.05,
          1
         ],
         "gridcolor": "rgb(75,75,75)",
         "linecolor": "rgb(75,75,75)",
         "mirror": true
        },
        "yaxis": {
         "gridcolor": "rgb(75,75,75)",
         "linecolor": "rgb(75,75,75)",
         "range": [
          0,
          100
         ],
         "tickfont": {
          "color": "#636EFA"
         },
         "title": {
          "font": {
           "color": "#636EFA"
          },
          "text": "TxPower (dBm)"
         }
        },
        "yaxis2": {
         "anchor": "free",
         "gridcolor": "rgb(75,75,75)",
         "linecolor": "rgb(75,75,75)",
         "overlaying": "y",
         "position": 0,
         "range": [
          -100,
          0
         ],
         "side": "left",
         "tickfont": {
          "color": "#EF553B"
         },
         "title": {
          "font": {
           "color": "#EF553B"
          },
          "text": "RSSI (dBm)"
         }
        },
        "yaxis3": {
         "anchor": "x",
         "gridcolor": "rgb(75,75,75)",
         "linecolor": "rgb(75,75,75)",
         "overlaying": "y",
         "range": [
          0,
          5
         ],
         "side": "right",
         "tickfont": {
          "color": "#00CC96"
         },
         "title": {
          "font": {
           "color": "#00CC96"
          },
          "text": "RTT (ms)"
         }
        }
       }
      }
     },
     "metadata": {},
     "output_type": "display_data"
    }
   ],
   "source": [
    "fig = go.Figure()\n",
    "\n",
    "power_color = '#636EFA'\n",
    "rssi_color = '#EF553B'\n",
    "rtt_color = '#00CC96'\n",
    "grid_color = \"rgb(75,75,75)\"\n",
    "\n",
    "fig.update_layout(font_color=\"rgb(150,150,150)\")\n",
    "\n",
    "fig.add_trace(go.Scatter(x=df[\"timeStamp\"], y=df[\"TxPower\"], name=\"TxPower\", mode=\"lines\", line=dict(color=power_color)))\n",
    "fig.add_trace(go.Scatter(x=df[\"timeStamp\"], y=df[\"RSSI\"], name=\"RSSI\", mode=\"lines\", line=dict(color=rssi_color), yaxis=\"y2\"))\n",
    "fig.add_trace(go.Scatter(x=df[\"timeStamp\"], y=df[\"RTT\"], name=\"RTT\", mode=\"lines\", line=dict(color=rtt_color), yaxis=\"y3\"))\n",
    "\n",
    "fig.update_layout(\n",
    "                  title=dict(text=\"Radio Transmission metrics\", font_size=24),\n",
    "                  width=1750,\n",
    "                  height=800,\n",
    "                  legend=dict(x=0, y=1.07, orientation='h'),\n",
    "                  plot_bgcolor='rgb(35,35,35)',\n",
    "                  paper_bgcolor ='rgb(10,10,10)',\n",
    "                  xaxis=dict(domain=[0.05,1], linecolor=grid_color, gridcolor=grid_color, mirror=True),\n",
    "                  yaxis=dict(title=dict(text=\"TxPower (dBm)\", font=dict(color=power_color)), tickfont=dict(color=power_color), range=[0,100], linecolor=grid_color, gridcolor=grid_color),\n",
    "                  yaxis2=dict(title=dict(text=\"RSSI (dBm)\", font=dict(color=rssi_color)), tickfont=dict(color=rssi_color), anchor=\"free\", overlaying=\"y\", side=\"left\", position=0, range=[-100,0], linecolor=grid_color, gridcolor=grid_color),\n",
    "                  yaxis3=dict(title=dict(text=\"RTT (ms)\", font=dict(color=rtt_color)), tickfont=dict(color=rtt_color), anchor=\"x\", overlaying=\"y\", side=\"right\", range=[0,5], linecolor=grid_color, gridcolor=grid_color)\n",
    "                )\n",
    "\n",
    "fig.show()"
   ]
  },
  {
   "cell_type": "code",
   "execution_count": null,
   "metadata": {},
   "outputs": [],
   "source": [
    "\n",
    "# Initialize Dash app with Flask server\n",
    "server = Flask(__name__)\n",
    "app = Dash(__name__, server=server)\n",
    "\n",
    "app.layout = html.Div([\n",
    "    dcc.Graph(id='live-graph'),\n",
    "    dcc.Interval(\n",
    "        id='interval-component',\n",
    "        interval=1*1000,  # in milliseconds\n",
    "        n_intervals=0\n",
    "    )\n",
    "])\n",
    "\n",
    "@app.callback(Output('live-graph', 'figure'),\n",
    "              Input('interval-component', 'n_intervals'))\n",
    "def update_plot(n):\n",
    "    \n",
    "    df = datagen()\n",
    "    \n",
    "    if df.empty:\n",
    "        return go.Figure()\n",
    "\n",
    "    tdf = df.iloc[-100:]\n",
    "\n",
    "    fig = go.Figure()\n",
    "\n",
    "    fig.add_trace(go.Scatter(x=tdf.index, y=tdf['TxPower'], mode='lines', name='TxPower', line=dict(color='green')))\n",
    "    fig.add_trace(go.Scatter(x=tdf.index, y=tdf['RSSI'], mode='lines', name='RSSI', line=dict(color='blue'), yaxis='y2'))\n",
    "    fig.add_trace(go.Scatter(x=tdf.index, y=tdf['RTT'], mode='lines', name='RTT', line=dict(color='red'), yaxis='y3'))\n",
    "\n",
    "    # Update layout for clarity\n",
    "    material_title = tdf['Material'].iloc[-1] if not tdf.empty else \"<unknown>\"\n",
    "    fig.update_layout(\n",
    "        title=f'Live Data Visualization - {material_title}',\n",
    "        xaxis=dict(title='Index'),\n",
    "        yaxis=dict(title='TxPower (dBm)', titlefont=dict(color='green'), tickfont=dict(color='green'), anchor=\"free\", overlaying='y', side='left', position=0, range=[0, 100]),\n",
    "        yaxis2=dict(title='RSSI (dBm)', titlefont=dict(color='blue'), tickfont=dict(color='blue'), anchor=\"free\", overlaying='y', side='right', position=0, range=[-100, 0]),\n",
    "        yaxis3=dict(title='RTT (ms)', titlefont=dict(color='red'), tickfont=dict(color='red'), anchor=\"free\", overlaying='y', side='right', position=1, range=[0, 10]),\n",
    "        legend=dict(x=0, y=1.1, orientation='h')\n",
    "    )\n",
    "\n",
    "    return fig\n",
    "\n",
    "def open_browser():\n",
    "    webbrowser.open_new(\"http://127.0.0.1:8050/\")\n",
    "\n",
    "if __name__ == '__main__':\n",
    "    threading.Timer(1, open_browser).start()\n",
    "    app.run_server(debug=True)"
   ]
  },
  {
   "cell_type": "code",
   "execution_count": null,
   "metadata": {},
   "outputs": [],
   "source": [
    "\n"
   ]
  }
 ],
 "metadata": {
  "kernelspec": {
   "display_name": "base",
   "language": "python",
   "name": "python3"
  },
  "language_info": {
   "codemirror_mode": {
    "name": "ipython",
    "version": 3
   },
   "file_extension": ".py",
   "mimetype": "text/x-python",
   "name": "python",
   "nbconvert_exporter": "python",
   "pygments_lexer": "ipython3",
   "version": "3.10.9"
  }
 },
 "nbformat": 4,
 "nbformat_minor": 2
}
