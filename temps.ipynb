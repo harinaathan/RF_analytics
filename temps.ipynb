{
 "cells": [
  {
   "cell_type": "code",
   "execution_count": 1,
   "metadata": {},
   "outputs": [],
   "source": [
    "import asyncio\n",
    "import websockets\n",
    "import pandas as pd\n",
    "import numpy as np\n",
    "import plotly.graph_objects as go\n",
    "from dash import Dash, dcc, html\n",
    "from dash.dependencies import Input, Output\n",
    "import threading\n",
    "import webbrowser\n",
    "from flask import Flask\n",
    "\n",
    "# generate sample timestamp\n",
    "\n",
    "\n",
    "# Generate sample data\n",
    "data = np.append(\n",
    "            np.append(\n",
    "                np.append(\n",
    "                    np.random.randint(50,61,(100,1)),\n",
    "                    np.random.randint(0,100,(100,1)), axis=1),\n",
    "                np.random.randint(-100,0,(100,1)), axis=1),\n",
    "            np.random.randint(1,3,(100,1)), axis=1)\n",
    "\n",
    "df = pd.DataFrame(data, columns=[\"timeStamp\", \"TxPower\",\"RSSI\",\"RTT\"])\n",
    "df[\"timeStamp\"] = df[\"timeStamp\"].cumsum(axis=0)"
   ]
  },
  {
   "cell_type": "code",
   "execution_count": 35,
   "metadata": {},
   "outputs": [
    {
     "data": {
      "application/vnd.plotly.v1+json": {
       "config": {
        "plotlyServerURL": "https://plot.ly"
       },
       "data": [
        {
         "line": {
          "color": "#636EFA"
         },
         "mode": "lines",
         "name": "TxPower",
         "type": "scatter",
         "x": [
          55,
          107,
          157,
          214,
          264,
          317,
          377,
          430,
          486,
          545,
          596,
          652,
          702,
          760,
          815,
          866,
          916,
          974,
          1024,
          1080,
          1138,
          1193,
          1251,
          1302,
          1352,
          1409,
          1464,
          1518,
          1572,
          1627,
          1686,
          1738,
          1798,
          1856,
          1907,
          1964,
          2019,
          2075,
          2135,
          2189,
          2248,
          2301,
          2355,
          2415,
          2465,
          2515,
          2568,
          2618,
          2675,
          2725,
          2784,
          2836,
          2888,
          2945,
          2997,
          3048,
          3098,
          3149,
          3206,
          3258,
          3314,
          3365,
          3422,
          3473,
          3527,
          3577,
          3633,
          3688,
          3739,
          3798,
          3856,
          3906,
          3965,
          4018,
          4076,
          4128,
          4178,
          4232,
          4282,
          4339,
          4391,
          4451,
          4510,
          4570,
          4628,
          4686,
          4742,
          4793,
          4846,
          4899,
          4951,
          5009,
          5062,
          5114,
          5168,
          5226,
          5279,
          5339,
          5392,
          5443
         ],
         "y": [
          37,
          86,
          39,
          54,
          23,
          83,
          94,
          43,
          35,
          87,
          64,
          40,
          59,
          42,
          65,
          49,
          3,
          25,
          69,
          31,
          16,
          46,
          50,
          3,
          70,
          52,
          9,
          5,
          21,
          82,
          85,
          22,
          43,
          42,
          65,
          41,
          24,
          50,
          33,
          85,
          69,
          81,
          24,
          90,
          94,
          96,
          9,
          6,
          15,
          76,
          37,
          43,
          14,
          13,
          41,
          86,
          61,
          25,
          2,
          97,
          7,
          75,
          59,
          37,
          97,
          48,
          57,
          4,
          79,
          66,
          75,
          55,
          85,
          42,
          32,
          41,
          18,
          91,
          10,
          64,
          40,
          75,
          63,
          26,
          82,
          23,
          37,
          32,
          43,
          2,
          29,
          94,
          12,
          82,
          23,
          30,
          43,
          28,
          35,
          78
         ]
        },
        {
         "line": {
          "color": "#EF553B"
         },
         "mode": "lines",
         "name": "RSSI",
         "type": "scatter",
         "x": [
          55,
          107,
          157,
          214,
          264,
          317,
          377,
          430,
          486,
          545,
          596,
          652,
          702,
          760,
          815,
          866,
          916,
          974,
          1024,
          1080,
          1138,
          1193,
          1251,
          1302,
          1352,
          1409,
          1464,
          1518,
          1572,
          1627,
          1686,
          1738,
          1798,
          1856,
          1907,
          1964,
          2019,
          2075,
          2135,
          2189,
          2248,
          2301,
          2355,
          2415,
          2465,
          2515,
          2568,
          2618,
          2675,
          2725,
          2784,
          2836,
          2888,
          2945,
          2997,
          3048,
          3098,
          3149,
          3206,
          3258,
          3314,
          3365,
          3422,
          3473,
          3527,
          3577,
          3633,
          3688,
          3739,
          3798,
          3856,
          3906,
          3965,
          4018,
          4076,
          4128,
          4178,
          4232,
          4282,
          4339,
          4391,
          4451,
          4510,
          4570,
          4628,
          4686,
          4742,
          4793,
          4846,
          4899,
          4951,
          5009,
          5062,
          5114,
          5168,
          5226,
          5279,
          5339,
          5392,
          5443
         ],
         "y": [
          -70,
          -75,
          -22,
          -29,
          -21,
          -94,
          -42,
          -96,
          -76,
          -15,
          -9,
          -91,
          -75,
          -65,
          -32,
          -99,
          -83,
          -5,
          -7,
          -10,
          -32,
          -9,
          -83,
          -50,
          -77,
          -4,
          -63,
          -67,
          -69,
          -47,
          -45,
          -21,
          -91,
          -74,
          -80,
          -65,
          -96,
          -81,
          -38,
          -45,
          -80,
          -41,
          -43,
          -24,
          -99,
          -43,
          -24,
          -9,
          -16,
          -1,
          -46,
          -98,
          -54,
          -17,
          -57,
          -58,
          -79,
          -47,
          -96,
          -26,
          -95,
          -36,
          -50,
          -41,
          -11,
          -65,
          -82,
          -73,
          -17,
          -60,
          -82,
          -63,
          -45,
          -59,
          -20,
          -61,
          -46,
          -34,
          -77,
          -8,
          -75,
          -20,
          -63,
          -97,
          -59,
          -59,
          -71,
          -28,
          -85,
          -14,
          -9,
          -15,
          -60,
          -4,
          -46,
          -58,
          -90,
          -8,
          -21,
          -68
         ],
         "yaxis": "y2"
        },
        {
         "line": {
          "color": "#00CC96"
         },
         "mode": "lines",
         "name": "RTT",
         "type": "scatter",
         "x": [
          55,
          107,
          157,
          214,
          264,
          317,
          377,
          430,
          486,
          545,
          596,
          652,
          702,
          760,
          815,
          866,
          916,
          974,
          1024,
          1080,
          1138,
          1193,
          1251,
          1302,
          1352,
          1409,
          1464,
          1518,
          1572,
          1627,
          1686,
          1738,
          1798,
          1856,
          1907,
          1964,
          2019,
          2075,
          2135,
          2189,
          2248,
          2301,
          2355,
          2415,
          2465,
          2515,
          2568,
          2618,
          2675,
          2725,
          2784,
          2836,
          2888,
          2945,
          2997,
          3048,
          3098,
          3149,
          3206,
          3258,
          3314,
          3365,
          3422,
          3473,
          3527,
          3577,
          3633,
          3688,
          3739,
          3798,
          3856,
          3906,
          3965,
          4018,
          4076,
          4128,
          4178,
          4232,
          4282,
          4339,
          4391,
          4451,
          4510,
          4570,
          4628,
          4686,
          4742,
          4793,
          4846,
          4899,
          4951,
          5009,
          5062,
          5114,
          5168,
          5226,
          5279,
          5339,
          5392,
          5443
         ],
         "y": [
          1,
          1,
          1,
          1,
          1,
          1,
          2,
          2,
          2,
          1,
          1,
          2,
          1,
          1,
          1,
          1,
          1,
          1,
          1,
          2,
          2,
          1,
          2,
          2,
          1,
          2,
          2,
          1,
          2,
          1,
          1,
          2,
          1,
          2,
          1,
          1,
          2,
          1,
          1,
          1,
          2,
          1,
          2,
          2,
          2,
          1,
          1,
          2,
          2,
          1,
          1,
          2,
          1,
          1,
          1,
          1,
          1,
          1,
          1,
          1,
          1,
          2,
          1,
          2,
          1,
          2,
          2,
          2,
          2,
          1,
          1,
          2,
          2,
          1,
          2,
          2,
          1,
          1,
          2,
          2,
          1,
          2,
          1,
          1,
          2,
          1,
          1,
          2,
          1,
          2,
          2,
          1,
          1,
          1,
          2,
          2,
          1,
          1,
          1,
          1
         ],
         "yaxis": "y3"
        }
       ],
       "layout": {
        "font": {
         "color": "rgb(150,150,150)"
        },
        "height": 800,
        "legend": {
         "orientation": "h",
         "x": 0,
         "y": 1.07
        },
        "paper_bgcolor": "rgb(10,10,10)",
        "plot_bgcolor": "rgb(35,35,35)",
        "template": {
         "data": {
          "bar": [
           {
            "error_x": {
             "color": "#2a3f5f"
            },
            "error_y": {
             "color": "#2a3f5f"
            },
            "marker": {
             "line": {
              "color": "#E5ECF6",
              "width": 0.5
             },
             "pattern": {
              "fillmode": "overlay",
              "size": 10,
              "solidity": 0.2
             }
            },
            "type": "bar"
           }
          ],
          "barpolar": [
           {
            "marker": {
             "line": {
              "color": "#E5ECF6",
              "width": 0.5
             },
             "pattern": {
              "fillmode": "overlay",
              "size": 10,
              "solidity": 0.2
             }
            },
            "type": "barpolar"
           }
          ],
          "carpet": [
           {
            "aaxis": {
             "endlinecolor": "#2a3f5f",
             "gridcolor": "white",
             "linecolor": "white",
             "minorgridcolor": "white",
             "startlinecolor": "#2a3f5f"
            },
            "baxis": {
             "endlinecolor": "#2a3f5f",
             "gridcolor": "white",
             "linecolor": "white",
             "minorgridcolor": "white",
             "startlinecolor": "#2a3f5f"
            },
            "type": "carpet"
           }
          ],
          "choropleth": [
           {
            "colorbar": {
             "outlinewidth": 0,
             "ticks": ""
            },
            "type": "choropleth"
           }
          ],
          "contour": [
           {
            "colorbar": {
             "outlinewidth": 0,
             "ticks": ""
            },
            "colorscale": [
             [
              0,
              "#0d0887"
             ],
             [
              0.1111111111111111,
              "#46039f"
             ],
             [
              0.2222222222222222,
              "#7201a8"
             ],
             [
              0.3333333333333333,
              "#9c179e"
             ],
             [
              0.4444444444444444,
              "#bd3786"
             ],
             [
              0.5555555555555556,
              "#d8576b"
             ],
             [
              0.6666666666666666,
              "#ed7953"
             ],
             [
              0.7777777777777778,
              "#fb9f3a"
             ],
             [
              0.8888888888888888,
              "#fdca26"
             ],
             [
              1,
              "#f0f921"
             ]
            ],
            "type": "contour"
           }
          ],
          "contourcarpet": [
           {
            "colorbar": {
             "outlinewidth": 0,
             "ticks": ""
            },
            "type": "contourcarpet"
           }
          ],
          "heatmap": [
           {
            "colorbar": {
             "outlinewidth": 0,
             "ticks": ""
            },
            "colorscale": [
             [
              0,
              "#0d0887"
             ],
             [
              0.1111111111111111,
              "#46039f"
             ],
             [
              0.2222222222222222,
              "#7201a8"
             ],
             [
              0.3333333333333333,
              "#9c179e"
             ],
             [
              0.4444444444444444,
              "#bd3786"
             ],
             [
              0.5555555555555556,
              "#d8576b"
             ],
             [
              0.6666666666666666,
              "#ed7953"
             ],
             [
              0.7777777777777778,
              "#fb9f3a"
             ],
             [
              0.8888888888888888,
              "#fdca26"
             ],
             [
              1,
              "#f0f921"
             ]
            ],
            "type": "heatmap"
           }
          ],
          "heatmapgl": [
           {
            "colorbar": {
             "outlinewidth": 0,
             "ticks": ""
            },
            "colorscale": [
             [
              0,
              "#0d0887"
             ],
             [
              0.1111111111111111,
              "#46039f"
             ],
             [
              0.2222222222222222,
              "#7201a8"
             ],
             [
              0.3333333333333333,
              "#9c179e"
             ],
             [
              0.4444444444444444,
              "#bd3786"
             ],
             [
              0.5555555555555556,
              "#d8576b"
             ],
             [
              0.6666666666666666,
              "#ed7953"
             ],
             [
              0.7777777777777778,
              "#fb9f3a"
             ],
             [
              0.8888888888888888,
              "#fdca26"
             ],
             [
              1,
              "#f0f921"
             ]
            ],
            "type": "heatmapgl"
           }
          ],
          "histogram": [
           {
            "marker": {
             "pattern": {
              "fillmode": "overlay",
              "size": 10,
              "solidity": 0.2
             }
            },
            "type": "histogram"
           }
          ],
          "histogram2d": [
           {
            "colorbar": {
             "outlinewidth": 0,
             "ticks": ""
            },
            "colorscale": [
             [
              0,
              "#0d0887"
             ],
             [
              0.1111111111111111,
              "#46039f"
             ],
             [
              0.2222222222222222,
              "#7201a8"
             ],
             [
              0.3333333333333333,
              "#9c179e"
             ],
             [
              0.4444444444444444,
              "#bd3786"
             ],
             [
              0.5555555555555556,
              "#d8576b"
             ],
             [
              0.6666666666666666,
              "#ed7953"
             ],
             [
              0.7777777777777778,
              "#fb9f3a"
             ],
             [
              0.8888888888888888,
              "#fdca26"
             ],
             [
              1,
              "#f0f921"
             ]
            ],
            "type": "histogram2d"
           }
          ],
          "histogram2dcontour": [
           {
            "colorbar": {
             "outlinewidth": 0,
             "ticks": ""
            },
            "colorscale": [
             [
              0,
              "#0d0887"
             ],
             [
              0.1111111111111111,
              "#46039f"
             ],
             [
              0.2222222222222222,
              "#7201a8"
             ],
             [
              0.3333333333333333,
              "#9c179e"
             ],
             [
              0.4444444444444444,
              "#bd3786"
             ],
             [
              0.5555555555555556,
              "#d8576b"
             ],
             [
              0.6666666666666666,
              "#ed7953"
             ],
             [
              0.7777777777777778,
              "#fb9f3a"
             ],
             [
              0.8888888888888888,
              "#fdca26"
             ],
             [
              1,
              "#f0f921"
             ]
            ],
            "type": "histogram2dcontour"
           }
          ],
          "mesh3d": [
           {
            "colorbar": {
             "outlinewidth": 0,
             "ticks": ""
            },
            "type": "mesh3d"
           }
          ],
          "parcoords": [
           {
            "line": {
             "colorbar": {
              "outlinewidth": 0,
              "ticks": ""
             }
            },
            "type": "parcoords"
           }
          ],
          "pie": [
           {
            "automargin": true,
            "type": "pie"
           }
          ],
          "scatter": [
           {
            "fillpattern": {
             "fillmode": "overlay",
             "size": 10,
             "solidity": 0.2
            },
            "type": "scatter"
           }
          ],
          "scatter3d": [
           {
            "line": {
             "colorbar": {
              "outlinewidth": 0,
              "ticks": ""
             }
            },
            "marker": {
             "colorbar": {
              "outlinewidth": 0,
              "ticks": ""
             }
            },
            "type": "scatter3d"
           }
          ],
          "scattercarpet": [
           {
            "marker": {
             "colorbar": {
              "outlinewidth": 0,
              "ticks": ""
             }
            },
            "type": "scattercarpet"
           }
          ],
          "scattergeo": [
           {
            "marker": {
             "colorbar": {
              "outlinewidth": 0,
              "ticks": ""
             }
            },
            "type": "scattergeo"
           }
          ],
          "scattergl": [
           {
            "marker": {
             "colorbar": {
              "outlinewidth": 0,
              "ticks": ""
             }
            },
            "type": "scattergl"
           }
          ],
          "scattermapbox": [
           {
            "marker": {
             "colorbar": {
              "outlinewidth": 0,
              "ticks": ""
             }
            },
            "type": "scattermapbox"
           }
          ],
          "scatterpolar": [
           {
            "marker": {
             "colorbar": {
              "outlinewidth": 0,
              "ticks": ""
             }
            },
            "type": "scatterpolar"
           }
          ],
          "scatterpolargl": [
           {
            "marker": {
             "colorbar": {
              "outlinewidth": 0,
              "ticks": ""
             }
            },
            "type": "scatterpolargl"
           }
          ],
          "scatterternary": [
           {
            "marker": {
             "colorbar": {
              "outlinewidth": 0,
              "ticks": ""
             }
            },
            "type": "scatterternary"
           }
          ],
          "surface": [
           {
            "colorbar": {
             "outlinewidth": 0,
             "ticks": ""
            },
            "colorscale": [
             [
              0,
              "#0d0887"
             ],
             [
              0.1111111111111111,
              "#46039f"
             ],
             [
              0.2222222222222222,
              "#7201a8"
             ],
             [
              0.3333333333333333,
              "#9c179e"
             ],
             [
              0.4444444444444444,
              "#bd3786"
             ],
             [
              0.5555555555555556,
              "#d8576b"
             ],
             [
              0.6666666666666666,
              "#ed7953"
             ],
             [
              0.7777777777777778,
              "#fb9f3a"
             ],
             [
              0.8888888888888888,
              "#fdca26"
             ],
             [
              1,
              "#f0f921"
             ]
            ],
            "type": "surface"
           }
          ],
          "table": [
           {
            "cells": {
             "fill": {
              "color": "#EBF0F8"
             },
             "line": {
              "color": "white"
             }
            },
            "header": {
             "fill": {
              "color": "#C8D4E3"
             },
             "line": {
              "color": "white"
             }
            },
            "type": "table"
           }
          ]
         },
         "layout": {
          "annotationdefaults": {
           "arrowcolor": "#2a3f5f",
           "arrowhead": 0,
           "arrowwidth": 1
          },
          "autotypenumbers": "strict",
          "coloraxis": {
           "colorbar": {
            "outlinewidth": 0,
            "ticks": ""
           }
          },
          "colorscale": {
           "diverging": [
            [
             0,
             "#8e0152"
            ],
            [
             0.1,
             "#c51b7d"
            ],
            [
             0.2,
             "#de77ae"
            ],
            [
             0.3,
             "#f1b6da"
            ],
            [
             0.4,
             "#fde0ef"
            ],
            [
             0.5,
             "#f7f7f7"
            ],
            [
             0.6,
             "#e6f5d0"
            ],
            [
             0.7,
             "#b8e186"
            ],
            [
             0.8,
             "#7fbc41"
            ],
            [
             0.9,
             "#4d9221"
            ],
            [
             1,
             "#276419"
            ]
           ],
           "sequential": [
            [
             0,
             "#0d0887"
            ],
            [
             0.1111111111111111,
             "#46039f"
            ],
            [
             0.2222222222222222,
             "#7201a8"
            ],
            [
             0.3333333333333333,
             "#9c179e"
            ],
            [
             0.4444444444444444,
             "#bd3786"
            ],
            [
             0.5555555555555556,
             "#d8576b"
            ],
            [
             0.6666666666666666,
             "#ed7953"
            ],
            [
             0.7777777777777778,
             "#fb9f3a"
            ],
            [
             0.8888888888888888,
             "#fdca26"
            ],
            [
             1,
             "#f0f921"
            ]
           ],
           "sequentialminus": [
            [
             0,
             "#0d0887"
            ],
            [
             0.1111111111111111,
             "#46039f"
            ],
            [
             0.2222222222222222,
             "#7201a8"
            ],
            [
             0.3333333333333333,
             "#9c179e"
            ],
            [
             0.4444444444444444,
             "#bd3786"
            ],
            [
             0.5555555555555556,
             "#d8576b"
            ],
            [
             0.6666666666666666,
             "#ed7953"
            ],
            [
             0.7777777777777778,
             "#fb9f3a"
            ],
            [
             0.8888888888888888,
             "#fdca26"
            ],
            [
             1,
             "#f0f921"
            ]
           ]
          },
          "colorway": [
           "#636efa",
           "#EF553B",
           "#00cc96",
           "#ab63fa",
           "#FFA15A",
           "#19d3f3",
           "#FF6692",
           "#B6E880",
           "#FF97FF",
           "#FECB52"
          ],
          "font": {
           "color": "#2a3f5f"
          },
          "geo": {
           "bgcolor": "white",
           "lakecolor": "white",
           "landcolor": "#E5ECF6",
           "showlakes": true,
           "showland": true,
           "subunitcolor": "white"
          },
          "hoverlabel": {
           "align": "left"
          },
          "hovermode": "closest",
          "mapbox": {
           "style": "light"
          },
          "paper_bgcolor": "white",
          "plot_bgcolor": "#E5ECF6",
          "polar": {
           "angularaxis": {
            "gridcolor": "white",
            "linecolor": "white",
            "ticks": ""
           },
           "bgcolor": "#E5ECF6",
           "radialaxis": {
            "gridcolor": "white",
            "linecolor": "white",
            "ticks": ""
           }
          },
          "scene": {
           "xaxis": {
            "backgroundcolor": "#E5ECF6",
            "gridcolor": "white",
            "gridwidth": 2,
            "linecolor": "white",
            "showbackground": true,
            "ticks": "",
            "zerolinecolor": "white"
           },
           "yaxis": {
            "backgroundcolor": "#E5ECF6",
            "gridcolor": "white",
            "gridwidth": 2,
            "linecolor": "white",
            "showbackground": true,
            "ticks": "",
            "zerolinecolor": "white"
           },
           "zaxis": {
            "backgroundcolor": "#E5ECF6",
            "gridcolor": "white",
            "gridwidth": 2,
            "linecolor": "white",
            "showbackground": true,
            "ticks": "",
            "zerolinecolor": "white"
           }
          },
          "shapedefaults": {
           "line": {
            "color": "#2a3f5f"
           }
          },
          "ternary": {
           "aaxis": {
            "gridcolor": "white",
            "linecolor": "white",
            "ticks": ""
           },
           "baxis": {
            "gridcolor": "white",
            "linecolor": "white",
            "ticks": ""
           },
           "bgcolor": "#E5ECF6",
           "caxis": {
            "gridcolor": "white",
            "linecolor": "white",
            "ticks": ""
           }
          },
          "title": {
           "x": 0.05
          },
          "xaxis": {
           "automargin": true,
           "gridcolor": "white",
           "linecolor": "white",
           "ticks": "",
           "title": {
            "standoff": 15
           },
           "zerolinecolor": "white",
           "zerolinewidth": 2
          },
          "yaxis": {
           "automargin": true,
           "gridcolor": "white",
           "linecolor": "white",
           "ticks": "",
           "title": {
            "standoff": 15
           },
           "zerolinecolor": "white",
           "zerolinewidth": 2
          }
         }
        },
        "title": {
         "font": {
          "size": 24
         },
         "text": "Radio Transmission metrics"
        },
        "width": 1750,
        "xaxis": {
         "domain": [
          0.05,
          1
         ],
         "gridcolor": "rgb(75,75,75)",
         "linecolor": "rgb(75,75,75)",
         "mirror": true
        },
        "yaxis": {
         "gridcolor": "rgb(75,75,75)",
         "linecolor": "rgb(75,75,75)",
         "range": [
          0,
          100
         ],
         "tickfont": {
          "color": "#636EFA"
         },
         "title": {
          "font": {
           "color": "#636EFA"
          },
          "text": "TxPower (dBm)"
         }
        },
        "yaxis2": {
         "anchor": "free",
         "gridcolor": "rgb(75,75,75)",
         "linecolor": "rgb(75,75,75)",
         "overlaying": "y",
         "position": 0,
         "range": [
          -100,
          0
         ],
         "side": "left",
         "tickfont": {
          "color": "#EF553B"
         },
         "title": {
          "font": {
           "color": "#EF553B"
          },
          "text": "RSSI (dBm)"
         }
        },
        "yaxis3": {
         "anchor": "x",
         "gridcolor": "rgb(75,75,75)",
         "linecolor": "rgb(75,75,75)",
         "overlaying": "y",
         "range": [
          0,
          5
         ],
         "side": "right",
         "tickfont": {
          "color": "#00CC96"
         },
         "title": {
          "font": {
           "color": "#00CC96"
          },
          "text": "RTT (ms)"
         }
        }
       }
      }
     },
     "metadata": {},
     "output_type": "display_data"
    }
   ],
   "source": [
    "fig = go.Figure()\n",
    "\n",
    "power_color = '#636EFA'\n",
    "rssi_color = '#EF553B'\n",
    "rtt_color = '#00CC96'\n",
    "grid_color = \"rgb(75,75,75)\"\n",
    "\n",
    "fig.update_layout(font_color=\"rgb(150,150,150)\")\n",
    "\n",
    "fig.add_trace(go.Scatter(x=df[\"timeStamp\"], y=df[\"TxPower\"], name=\"TxPower\", mode=\"lines\", line=dict(color=power_color)))\n",
    "fig.add_trace(go.Scatter(x=df[\"timeStamp\"], y=df[\"RSSI\"], name=\"RSSI\", mode=\"lines\", line=dict(color=rssi_color), yaxis=\"y2\"))\n",
    "fig.add_trace(go.Scatter(x=df[\"timeStamp\"], y=df[\"RTT\"], name=\"RTT\", mode=\"lines\", line=dict(color=rtt_color), yaxis=\"y3\"))\n",
    "\n",
    "fig.update_layout(\n",
    "                  title=dict(text=\"Radio Transmission metrics\", font_size=24),\n",
    "                  width=1750,\n",
    "                  height=800,\n",
    "                  legend=dict(x=0, y=1.07, orientation='h'),\n",
    "                  plot_bgcolor='rgb(35,35,35)',\n",
    "                  paper_bgcolor ='rgb(10,10,10)',\n",
    "                  xaxis=dict(domain=[0.05,1], linecolor=grid_color, gridcolor=grid_color, mirror=True),\n",
    "                  yaxis=dict(title=dict(text=\"TxPower (dBm)\", font=dict(color=power_color)), tickfont=dict(color=power_color), range=[0,100], linecolor=grid_color, gridcolor=grid_color),\n",
    "                  yaxis2=dict(title=dict(text=\"RSSI (dBm)\", font=dict(color=rssi_color)), tickfont=dict(color=rssi_color), anchor=\"free\", overlaying=\"y\", side=\"left\", position=0, range=[-100,0], linecolor=grid_color, gridcolor=grid_color),\n",
    "                  yaxis3=dict(title=dict(text=\"RTT (ms)\", font=dict(color=rtt_color)), tickfont=dict(color=rtt_color), anchor=\"x\", overlaying=\"y\", side=\"right\", range=[0,5], linecolor=grid_color, gridcolor=grid_color)\n",
    "                )\n",
    "\n",
    "fig.show()"
   ]
  },
  {
   "cell_type": "code",
   "execution_count": null,
   "metadata": {},
   "outputs": [],
   "source": [
    "\n"
   ]
  },
  {
   "cell_type": "code",
   "execution_count": null,
   "metadata": {},
   "outputs": [],
   "source": []
  },
  {
   "cell_type": "code",
   "execution_count": null,
   "metadata": {},
   "outputs": [],
   "source": []
  },
  {
   "cell_type": "code",
   "execution_count": null,
   "metadata": {},
   "outputs": [],
   "source": [
    "import pandas as pd\n",
    "import scipy.stats as stats\n",
    "import plotly.express as px\n",
    "import plotly.graph_objects as go\n",
    "\n",
    "# Load your data (replace 'your_data.csv' with your actual data source)\n",
    "df = pd.read_csv('your_data.csv')\n",
    "\n",
    "# Function to check assumptions within each power group\n",
    "def check_assumptions(data, group_col, value_col, power_col):\n",
    "    power_groups = data[power_col].unique()\n",
    "\n",
    "    for power in power_groups:\n",
    "        subset = data[data[power_col] == power]\n",
    "        groups = subset[group_col].unique()\n",
    "\n",
    "        print(f\"\\nChecking assumptions for power group {power}:\")\n",
    "\n",
    "        # Normality check using Shapiro-Wilk test\n",
    "        print(\"\\nNormality Check (Shapiro-Wilk Test):\")\n",
    "        for group in groups:\n",
    "            group_data = subset[subset[group_col] == group][value_col]\n",
    "            stat, p_value = stats.shapiro(group_data)\n",
    "            print(f'{group}: W={stat:.4f}, p-value={p_value:.4f}')\n",
    "\n",
    "            # Q-Q Plot for each group using Plotly\n",
    "            qq_fig = go.Figure()\n",
    "            qq_fig.add_trace(go.Scatter(\n",
    "                x=stats.probplot(group_data, dist=\"norm\")[0][0], \n",
    "                y=stats.probplot(group_data, dist=\"norm\")[0][1],\n",
    "                mode='markers',\n",
    "                name=f'{group} Q-Q Plot'\n",
    "            ))\n",
    "            qq_fig.add_trace(go.Scatter(\n",
    "                x=stats.probplot(group_data, dist=\"norm\")[0][0], \n",
    "                y=stats.probplot(group_data, dist=\"norm\")[0][0],\n",
    "                mode='lines',\n",
    "                name='Ideal Line'\n",
    "            ))\n",
    "            qq_fig.update_layout(\n",
    "                title=f'Q-Q Plot for {group} (Power Group {power})',\n",
    "                xaxis_title='Theoretical Quantiles',\n",
    "                yaxis_title='Sample Quantiles',\n",
    "                template='plotly_dark'\n",
    "            )\n",
    "            qq_fig.show()\n",
    "\n",
    "        # Homogeneity of variances check using Levene's test\n",
    "        print(\"\\nHomogeneity of Variances Check (Levene's Test):\")\n",
    "        group_data = [subset[subset[group_col] == group][value_col] for group in groups]\n",
    "        stat, p_value = stats.levene(*group_data)\n",
    "        print(f'Levene\\'s Test: W={stat:.4f}, p-value={p_value:.4f}')\n",
    "\n",
    "# Check assumptions for RSSI within each power group\n",
    "print(\"Checking assumptions for RSSI within each power group:\")\n",
    "check_assumptions(df, 'Material', 'RSSI', 'powerGroup')\n",
    "\n",
    "# Check assumptions for RTT within each power group\n",
    "print(\"\\nChecking assumptions for RTT within each power group:\")\n",
    "check_assumptions(df, 'Material', 'RTT', 'powerGroup')"
   ]
  },
  {
   "cell_type": "code",
   "execution_count": null,
   "metadata": {},
   "outputs": [],
   "source": [
    "import pandas as pd\n",
    "import plotly.express as px\n",
    "import plotly.graph_objects as go\n",
    "from plotly.subplots import make_subplots\n",
    "import statsmodels.api as sm\n",
    "from statsmodels.formula.api import ols\n",
    "from scipy.stats import f_oneway, ttest_ind\n",
    "import itertools\n",
    "\n",
    "# Sample data loading\n",
    "df = pd.read_csv('your_data.csv')  # Replace with your actual data source\n",
    "\n",
    "# List of unique power groups\n",
    "power_groups = df['powerGroup'].unique()\n",
    "\n",
    "# Perform ANOVA for each power group\n",
    "anova_results = {}\n",
    "for power in power_groups:\n",
    "    subset = df[df['powerGroup'] == power]\n",
    "    anova_model = ols('RSSI ~ C(Material)', data=subset).fit()\n",
    "    anova_table = sm.stats.anova_lm(anova_model, typ=2)\n",
    "    anova_results[power] = anova_table\n",
    "\n",
    "# Calculate effect sizes (Cohen's d) between materials at each power level\n",
    "def cohen_d(group1, group2):\n",
    "    diff = group1.mean() - group2.mean()\n",
    "    pooled_std = ((group1.std()**2 + group2.std()**2) / 2)**0.5\n",
    "    return diff / pooled_std\n",
    "\n",
    "effect_sizes = {}\n",
    "for power in power_groups:\n",
    "    subset = df[df['powerGroup'] == power]\n",
    "    materials = subset['Material'].unique()\n",
    "    combinations = list(itertools.combinations(materials, 2))\n",
    "    for (mat1, mat2) in combinations:\n",
    "        group1 = subset[subset['Material'] == mat1]['RSSI']\n",
    "        group2 = subset[subset['Material'] == mat2]['RSSI']\n",
    "        effect_sizes[(power, mat1, mat2)] = cohen_d(group1, group2)\n",
    "\n",
    "# Visualize the results using Plotly (dark theme)\n",
    "fig = make_subplots(rows=1, cols=2, subplot_titles=(\"ANOVA Results\", \"Effect Sizes\"))\n",
    "\n",
    "# ANOVA plot\n",
    "anova_data = []\n",
    "for power, table in anova_results.items():\n",
    "    anova_data.append(go.Bar(name=f'Power Group {power}', x=table.index, y=table['PR(>F)']))\n",
    "\n",
    "fig.add_traces(anova_data, rows=1, cols=1)\n",
    "\n",
    "# Effect sizes plot\n",
    "effect_data = []\n",
    "for (power, mat1, mat2), effect_size in effect_sizes.items():\n",
    "    effect_data.append(go.Bar(name=f'{power} ({mat1} vs {mat2})', x=[f'{mat1} vs {mat2}'], y=[effect_size]))\n",
    "\n",
    "fig.add_traces(effect_data, rows=1, cols=2)\n",
    "\n",
    "# Update layout\n",
    "fig.update_layout(title_text=\"Statistical Analysis of Materials' Interaction with Signal Strength\", template=\"plotly_dark\")\n",
    "fig.show()\n"
   ]
  }
 ],
 "metadata": {
  "kernelspec": {
   "display_name": "base",
   "language": "python",
   "name": "python3"
  },
  "language_info": {
   "codemirror_mode": {
    "name": "ipython",
    "version": 3
   },
   "file_extension": ".py",
   "mimetype": "text/x-python",
   "name": "python",
   "nbconvert_exporter": "python",
   "pygments_lexer": "ipython3",
   "version": "3.10.9"
  }
 },
 "nbformat": 4,
 "nbformat_minor": 2
}
